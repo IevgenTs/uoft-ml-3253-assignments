{
  "nbformat": 4,
  "nbformat_minor": 0,
  "metadata": {
    "anaconda-cloud": {},
    "kernelspec": {
      "display_name": "Python 3",
      "language": "python",
      "name": "python3"
    },
    "language_info": {
      "codemirror_mode": {
        "name": "ipython",
        "version": 3
      },
      "file_extension": ".py",
      "mimetype": "text/x-python",
      "name": "python",
      "nbconvert_exporter": "python",
      "pygments_lexer": "ipython3",
      "version": "3.6.3"
    },
    "colab": {
      "provenance": [],
      "include_colab_link": true
    }
  },
  "cells": [
    {
      "cell_type": "markdown",
      "metadata": {
        "id": "view-in-github",
        "colab_type": "text"
      },
      "source": [
        "<a href=\"https://colab.research.google.com/github/IevgenTs/uoft-ml-3253-assignments/blob/main/module-07-decision-trees-ensembles/module_07_decision_trees_ensembles_assignment.ipynb\" target=\"_parent\"><img src=\"https://colab.research.google.com/assets/colab-badge.svg\" alt=\"Open In Colab\"/></a>"
      ]
    },
    {
      "cell_type": "code",
      "metadata": {
        "id": "vpPaMa-sTn8F"
      },
      "source": [
        "import numpy as np\n",
        "import pandas as pd\n",
        "\n",
        "# to make this notebook's output stable across runs\n",
        "np.random.seed(123)\n",
        "\n",
        "# To plot pretty figures\n",
        "%matplotlib inline\n",
        "import matplotlib\n",
        "import matplotlib.pyplot as plt\n",
        "plt.rcParams['axes.labelsize'] = 14\n",
        "plt.rcParams['xtick.labelsize'] = 12\n",
        "plt.rcParams['ytick.labelsize'] = 12\n"
      ],
      "execution_count": null,
      "outputs": []
    },
    {
      "cell_type": "markdown",
      "metadata": {
        "id": "E6jrE2nuTn8c"
      },
      "source": [
        "### Classification - Based on Week 3"
      ]
    },
    {
      "cell_type": "markdown",
      "metadata": {
        "id": "Yc7t6uRLTn8f"
      },
      "source": [
        "Q1. Build a classification model for the default of credit card clients dataset. More info here:\n",
        "https://archive.ics.uci.edu/ml/datasets/default+of+credit+card+clients\n",
        "\n",
        "In week 3, you:\n",
        "- Explored the dataset\n",
        "- Built a full data pipeline\n",
        "- Pre-processed data, explored features\n",
        "\n",
        "Building on your work of week 3:\n",
        "- Split dataset into 3 sets:\n",
        "  - 70% -> Training and cross validation\n",
        "  - 15% -> Model Stacking\n",
        "  - 15% -> Testing\n",
        "  \n",
        "\n",
        "- Tune a decision tree classfier:\n",
        "  - select a score (http://scikit-learn.org/stable/modules/model_evaluation.html). Explain your choice\n",
        "  - tune one parameter a time. Generate a plot for the score vs parameter values. Analyze your results.\n",
        "    - criterion, max_depth, min_samples_split, min_samples_leaf, max_leaf_nodes=None    \n",
        "  - tune all parameters at the same time using a randomgrid(http://scikit-learn.org/stable/modules/generated/sklearn.model_selection.RandomizedSearchCV.html#sklearn.model_selection.RandomizedSearchCV). First, run with a coarse grid, then refine in the next iteration. Use the information from the previous step to select parameter values.\n",
        "  "
      ]
    },
    {
      "cell_type": "markdown",
      "metadata": {
        "id": "4zIDEJlETn8h"
      },
      "source": [
        "For this assignment, we choose the ROC-AUC as a score measure because:\n",
        "\n",
        " - AUC applies to binary classifiers\n",
        " - We want to choose hyperparameters with the highest AUC score so that we have a greater True Positives and a lower number of False Positives. Note: higher AUC score does not necessary lead to a higher accuracy score as can be seen in a case of a such hyperparameter as min_samples_split; therefore, we would need to sacrifice some AUC score for the accuracy score.\n",
        ""
      ]
    },
    {
      "cell_type": "code",
      "metadata": {
        "id": "Fep53EQMTn8k"
      },
      "source": [
        "import os\n",
        "from six.moves import urllib\n",
        "\n",
        "\"\"\"\n",
        "Data Set Information:\n",
        "\n",
        "This research aimed at the case of customersâ€™ default payments in Taiwan and compares the predictive accuracy of\n",
        "probability of default among six data mining methods. From the perspective of risk management, the result of\n",
        "predictive accuracy of the estimated probability of default will be more valuable than the binary result of\n",
        "classification - credible or not credible clients. Because the real probability of default is unknown, this study\n",
        "presented the novel â€œSorting Smoothing Methodâ€ to estimate the real probability of default. With the real\n",
        "probability of default as the response variable (Y), and the predictive probability of default as the independent\n",
        "variable (X), the simple linear regression result (Y = A + BX) shows that the forecasting model produced by\n",
        "artificial neural network has the highest coefficient of determination; its regression intercept (A) is close to\n",
        "zero, and regression coefficient (B) to one. Therefore, among the six data mining techniques, artificial neural\n",
        "network is the only one that can accurately estimate the real probability of default.\n",
        "\n",
        "\n",
        "Attribute Information:\n",
        "\n",
        "This research employed a binary variable, default payment (Yes = 1, No = 0), as the response variable.\n",
        "This study reviewed the literature and used the following 23 variables as explanatory variables:\n",
        "X1: Amount of the given credit (NT dollar): it includes both the individual consumer credit and his/her\n",
        "family (supplementary) credit.\n",
        "X2: Gender (1 = male; 2 = female).\n",
        "X3: Education (1 = graduate school; 2 = university; 3 = high school; 4 = others).\n",
        "X4: Marital status (1 = married; 2 = single; 3 = others).\n",
        "X5: Age (year).\n",
        "X6 - X11: History of past payment. We tracked the past monthly payment records (from April to September, 2005) as follows: X6 = the repayment status in September, 2005; X7 = the repayment status in August, 2005; . . .;X11 = the repayment status in April, 2005. The measurement scale for the repayment status is: -1 = pay duly; 1 = payment delay for one month; 2 = payment delay for two months; . . .; 8 = payment delay for eight months; 9 = payment delay for nine months and above.\n",
        "X12-X17: Amount of bill statement (NT dollar). X12 = amount of bill statement in September, 2005; X13 = amount of bill statement in August, 2005; . . .; X17 = amount of bill statement in April, 2005.\n",
        "X18-X23: Amount of previous payment (NT dollar). X18 = amount paid in September, 2005; X19 = amount paid in August, 2005; . . .;X23 = amount paid in April, 2005.\n",
        "\"\"\"\n",
        "\n",
        "DOWNLOAD_ROOT = \"https://archive.ics.uci.edu/ml/machine-learning-databases/00350/\"\n",
        "CREDIT_PATH = os.path.join(\"datasets\", \"credit-default\")\n",
        "CREDIT_URL = DOWNLOAD_ROOT + \"default%20of%20credit%20card%20clients.xls\"\n",
        "\n",
        "#CREDIT_URL\n",
        "\n",
        "def fetch_creditdefault_data(credit_url=CREDIT_URL, credit_path=CREDIT_PATH):\n",
        "    if not os.path.isdir(credit_path):\n",
        "        os.makedirs(credit_path)\n",
        "    file_path = os.path.join(credit_path, \"default of credit card clients.xls\")\n",
        "\n",
        "    urllib.request.urlretrieve(credit_url, file_path)\n",
        "    # The commented code above wont execute in proxy settings. Please download the files from Github\n",
        "    # https://github.com github.com/RoyMachineLearning/3253-Machine-Learning\n",
        "\n",
        "#fetch_creditdefault_data()\n",
        "\n",
        "import pandas as pd\n",
        "\n",
        "def load_CRDEFAULT_data(credit_path=CREDIT_PATH):\n",
        "    file_path = os.path.join(credit_path, \"default of credit card clients.xls\")\n",
        "    return pd.read_excel(file_path, sheet = 0, skiprows= 1, header = 0)\n",
        "\n",
        "df = pd.read_excel(\"https://archive.ics.uci.edu/ml/machine-learning-databases/00350/default%20of%20credit%20card%20clients.xls\", skiprows= 1, header = 0)\n",
        "df = df.drop('ID',axis=1)"
      ],
      "execution_count": null,
      "outputs": []
    },
    {
      "cell_type": "code",
      "metadata": {
        "colab": {
          "base_uri": "https://localhost:8080/",
          "height": 882
        },
        "id": "4WCXR3ckkcfa",
        "outputId": "dfa5695c-ff1b-439c-d3ce-dd694d315bfb"
      },
      "source": [
        "#Part 1 - Explore the data\n",
        "\n",
        "import matplotlib.pyplot as plt\n",
        "df.hist(bins=50, figsize=(20,15))\n",
        "plt.show()"
      ],
      "execution_count": null,
      "outputs": [
        {
          "output_type": "display_data",
          "data": {
            "image/png": "[encoded data removed]",
            "text/plain": [
              "<Figure size 1440x1080 with 25 Axes>"
            ]
          },
          "metadata": {
            "needs_background": "light"
          }
        }
      ]
    },
    {
      "cell_type": "code",
      "metadata": {
        "id": "-GjXD2JfTn9M",
        "colab": {
          "base_uri": "https://localhost:8080/"
        },
        "outputId": "df3b4206-0892-45ce-a051-28a5db6f479a"
      },
      "source": [
        "TARGET = \"default payment next month\"\n",
        "columns_predictors = [col for col in df.columns if col not in [TARGET]]\n",
        "columns_categorical = ['SEX', 'EDUCATION', 'MARRIAGE', 'PAY_0', 'PAY_2', 'PAY_3', 'PAY_4', 'PAY_5', 'PAY_6']\n",
        "columns_numerical = [col for col in columns_predictors if col not in columns_categorical]\n",
        "print(f\"TARGET: {TARGET}\")\n",
        "print(f\"columns_predictors: {columns_predictors}\")\n",
        "print(f\"columns_categorical: {columns_categorical}\")\n",
        "print(f\"columns_numerical: {columns_numerical}\")"
      ],
      "execution_count": null,
      "outputs": [
        {
          "output_type": "stream",
          "name": "stdout",
          "text": [
            "TARGET: default payment next month\n",
            "columns_predictors: ['LIMIT_BAL', 'SEX', 'EDUCATION', 'MARRIAGE', 'AGE', 'PAY_0', 'PAY_2', 'PAY_3', 'PAY_4', 'PAY_5', 'PAY_6', 'BILL_AMT1', 'BILL_AMT2', 'BILL_AMT3', 'BILL_AMT4', 'BILL_AMT5', 'BILL_AMT6', 'PAY_AMT1', 'PAY_AMT2', 'PAY_AMT3', 'PAY_AMT4', 'PAY_AMT5', 'PAY_AMT6']\n",
            "columns_categorical: ['SEX', 'EDUCATION', 'MARRIAGE', 'PAY_0', 'PAY_2', 'PAY_3', 'PAY_4', 'PAY_5', 'PAY_6']\n",
            "columns_numerical: ['LIMIT_BAL', 'AGE', 'BILL_AMT1', 'BILL_AMT2', 'BILL_AMT3', 'BILL_AMT4', 'BILL_AMT5', 'BILL_AMT6', 'PAY_AMT1', 'PAY_AMT2', 'PAY_AMT3', 'PAY_AMT4', 'PAY_AMT5', 'PAY_AMT6']\n"
          ]
        }
      ]
    },
    {
      "cell_type": "code",
      "metadata": {
        "id": "t9Ur1uAJTn9Z"
      },
      "source": [
        "X = df[columns_predictors]\n",
        "y = df[TARGET]\n",
        "\n",
        "from sklearn.model_selection import train_test_split\n",
        "## Enter your Code here\n",
        "## Enter your Code here"
      ],
      "execution_count": null,
      "outputs": []
    },
    {
      "cell_type": "code",
      "metadata": {
        "id": "kSJgypaNkiPv"
      },
      "source": [
        "#Create numerical pipeline to transform numerical values\n",
        "\n",
        "from sklearn.pipeline import Pipeline\n",
        "from sklearn.compose import ColumnTransformer\n",
        "from sklearn.preprocessing import MinMaxScaler, OneHotEncoder ,StandardScaler\n",
        "\n",
        "#Convert the non transformed Dataframe into list.\n",
        "columns_categorical_list = list(columns_categorical)\n",
        "columns_numerical_list = list(columns_numerical)\n",
        "\n",
        "pipeline_categorical = Pipeline([\n",
        "  ('onehot', OneHotEncoder()),\n",
        "])\n",
        "\n",
        "pipeline_numerical = Pipeline([\n",
        "  ('scaler', StandardScaler()),\n",
        "])\n",
        "\n",
        "pipeline_full = ColumnTransformer([\n",
        "  (\"categorical\", pipeline_categorical, columns_categorical_list),\n",
        "  (\"numerical\", pipeline_numerical, columns_numerical_list),\n",
        "])"
      ],
      "execution_count": null,
      "outputs": []
    },
    {
      "cell_type": "code",
      "metadata": {
        "id": "idADKhtFknM_"
      },
      "source": [
        "pipeline_full.fit(X_train)\n",
        "## Enter your Code here\n",
        "## Enter your Code here"
      ],
      "execution_count": null,
      "outputs": []
    },
    {
      "cell_type": "code",
      "metadata": {
        "id": "JOESgveVTn9p"
      },
      "source": [
        "#define the Plots for Checking the roc_auc values vs Parameter\n",
        "\n",
        "def plot_Parameters_Vs_Scores(criterion_estimators,roc_auc_values,plotType):\n",
        "    if plotType == \"Scatter\":\n",
        "        plt.scatter(criterion_estimators, roc_auc_values)\n",
        "    if plotType == \"Line\":\n",
        "        plt.plot(criterion_estimators, roc_auc_values)\n",
        "    plt.xlabel(\"Parameters Vs AUC Scores\")\n",
        "    plt.legend(loc=\"best\")\n",
        "    plt.grid(True)\n",
        "\n",
        "#Taken from Xuan's reference\n",
        "from matplotlib.colors import ListedColormap\n",
        "\n",
        "def plot_decision_boundary(clf, X, y, axes=[-1.5, 2.45, -1, 1.5], alpha=0.5, contour=True):\n",
        "    x1s = np.linspace(axes[0], axes[1], 100)\n",
        "    x2s = np.linspace(axes[2], axes[3], 100)\n",
        "    x1, x2 = np.meshgrid(x1s, x2s)\n",
        "    X_new = np.c_[x1.ravel(), x2.ravel()]\n",
        "    y_pred = clf.predict(X_new).reshape(x1.shape)\n",
        "    custom_cmap = ListedColormap(['#fafab0','#9898ff','#a0faa0'])\n",
        "    plt.contourf(x1, x2, y_pred, alpha=0.3, cmap=custom_cmap)\n",
        "    if contour:\n",
        "        custom_cmap2 = ListedColormap(['#7d7d58','#4c4c7f','#507d50'])\n",
        "        plt.contour(x1, x2, y_pred, cmap=custom_cmap2, alpha=0.8)\n",
        "    plt.plot(X[:, 0][y==0], X[:, 1][y==0], \"yo\", alpha=alpha)\n",
        "    plt.plot(X[:, 0][y==1], X[:, 1][y==1], \"bs\", alpha=alpha)\n",
        "    plt.axis(axes)\n",
        "    plt.xlabel(r\"$x_1$\", fontsize=18)\n",
        "    plt.ylabel(r\"$x_2$\", fontsize=18, rotation=0)"
      ],
      "execution_count": null,
      "outputs": []
    },
    {
      "cell_type": "markdown",
      "metadata": {
        "id": "erRbNtzsUTeL"
      },
      "source": [
        "Tune Hyperparameter : Criterion"
      ]
    },
    {
      "cell_type": "code",
      "metadata": {
        "id": "LP6q6rKtTn-G"
      },
      "source": [
        "#Evaluate the Decision tree model on the training set\n",
        "from sklearn.model_selection import cross_val_predict\n",
        "from sklearn.metrics import roc_auc_score\n",
        "from sklearn.tree import DecisionTreeClassifier\n",
        "from sklearn.model_selection import GridSearchCV\n",
        "\n",
        "criterion_estimators_1 = ['gini', 'entropy']\n",
        "## Enter your Code here\n",
        "## Enter your Code here"
      ],
      "execution_count": null,
      "outputs": []
    },
    {
      "cell_type": "code",
      "metadata": {
        "id": "JisB5souTn-W"
      },
      "source": [
        "plot_Parameters_Vs_Scores(criterion_estimators_1, roc_auc_values,\"Line\")\n",
        "plt.show()"
      ],
      "execution_count": null,
      "outputs": []
    },
    {
      "cell_type": "code",
      "metadata": {
        "id": "a8FJCYUATn_P"
      },
      "source": [
        "#Check the Accuracy on Test data\n",
        "## Enter your Code here\n",
        "## Enter your Code here"
      ],
      "execution_count": null,
      "outputs": []
    },
    {
      "cell_type": "markdown",
      "metadata": {
        "id": "Nm6hMw_pUaNB"
      },
      "source": [
        "Tune Hyperparameter : Max Depth"
      ]
    },
    {
      "cell_type": "code",
      "metadata": {
        "id": "jz2VdLsETn_e"
      },
      "source": [
        "# Criterion Parameter - Max Depth\n",
        "\n",
        "criterion_estimators_2 = [1, 2, 3, 4, 5]\n",
        "\n",
        "## Enter your Code here\n",
        "## Enter your Code here"
      ],
      "execution_count": null,
      "outputs": []
    },
    {
      "cell_type": "code",
      "metadata": {
        "id": "ltRWha-cTn_r"
      },
      "source": [
        "plot_Parameters_Vs_Scores(criterion_estimators_2, roc_auc_values,\"Line\")\n",
        "plt.show()"
      ],
      "execution_count": null,
      "outputs": []
    },
    {
      "cell_type": "code",
      "metadata": {
        "id": "9-qgPFM3ToAH"
      },
      "source": [
        "#Print the accuracy score\n",
        "## Enter your Code here\n",
        "## Enter your Code here"
      ],
      "execution_count": null,
      "outputs": []
    },
    {
      "cell_type": "code",
      "metadata": {
        "id": "Rex6aywqToAU"
      },
      "source": [
        "#Check the Accuracy on Test data\n",
        "## Enter your Code here\n",
        "## Enter your Code here"
      ],
      "execution_count": null,
      "outputs": []
    },
    {
      "cell_type": "markdown",
      "metadata": {
        "id": "oLYP7GibUhTA"
      },
      "source": [
        "Tune Hyperparameter : Min Samples Split"
      ]
    },
    {
      "cell_type": "code",
      "metadata": {
        "id": "eOJaqUUnToAj"
      },
      "source": [
        "#Criterion = Min Samples Split.\n",
        "criterion_estimators_3 = list(range(2,10))\n",
        "\n",
        "## Enter your Code here\n",
        "## Enter your Code here"
      ],
      "execution_count": null,
      "outputs": []
    },
    {
      "cell_type": "code",
      "metadata": {
        "id": "lXHewG4WToBH"
      },
      "source": [
        "#Print the accuracy score\n",
        "## Enter your Code here\n",
        "## Enter your Code here"
      ],
      "execution_count": null,
      "outputs": []
    },
    {
      "cell_type": "code",
      "metadata": {
        "id": "ML9NbEFxToBV"
      },
      "source": [
        "#Check the Accuracy on Test data\n",
        "## Enter your Code here\n",
        "## Enter your Code here"
      ],
      "execution_count": null,
      "outputs": []
    },
    {
      "cell_type": "markdown",
      "metadata": {
        "id": "KRjrA7xYUntU"
      },
      "source": [
        "Tune Hyperparameter : Min Sample Leaf"
      ]
    },
    {
      "cell_type": "code",
      "metadata": {
        "id": "vBCWheT-ToBl"
      },
      "source": [
        "#Criteria : min_samples_leaf\n",
        "criterion_estimators_4 = [(i + 1) / 10 for i in range(5)]\n",
        "\n",
        "## Enter your Code here\n",
        "## Enter your Code here"
      ],
      "execution_count": null,
      "outputs": []
    },
    {
      "cell_type": "code",
      "metadata": {
        "id": "5SHsysw3ToCa"
      },
      "source": [
        "#Print the accuracy score\n",
        "## Enter your Code here\n",
        "## Enter your Code here"
      ],
      "execution_count": null,
      "outputs": []
    },
    {
      "cell_type": "code",
      "metadata": {
        "id": "Pha8z_3FToCp"
      },
      "source": [
        "#Check the Accuracy on Test data\n",
        "## Enter your Code here\n",
        "## Enter your Code here"
      ],
      "execution_count": null,
      "outputs": []
    },
    {
      "cell_type": "markdown",
      "metadata": {
        "id": "ZFE_hXsaU2xT"
      },
      "source": [
        "Tune Hyperparameter : Min Sample Leaf"
      ]
    },
    {
      "cell_type": "code",
      "metadata": {
        "id": "keCiDqzNToC4"
      },
      "source": [
        "#Criterion = max_leaf_nodes\n",
        "## Enter your Code here\n",
        "## Enter your Code here"
      ],
      "execution_count": null,
      "outputs": []
    },
    {
      "cell_type": "code",
      "metadata": {
        "id": "-Nd-zO0xToDD"
      },
      "source": [
        "plot_Parameters_Vs_Scores(criterion_estimators_5, roc_auc_values,\"Line\")\n",
        "plt.show()"
      ],
      "execution_count": null,
      "outputs": []
    },
    {
      "cell_type": "code",
      "metadata": {
        "id": "gAyZ02b1ToDc"
      },
      "source": [
        "#Print the accuracy score\n",
        "## Enter your Code here\n",
        "## Enter your Code here"
      ],
      "execution_count": null,
      "outputs": []
    },
    {
      "cell_type": "code",
      "metadata": {
        "id": "ZU1-U2DKToD7"
      },
      "source": [
        "#Check the Accuracy on Test data\n",
        "## Enter your Code here\n",
        "## Enter your Code here"
      ],
      "execution_count": null,
      "outputs": []
    },
    {
      "cell_type": "markdown",
      "metadata": {
        "id": "xjFnsYVDToES"
      },
      "source": [
        "As the accuracy drops on the test set - this criterion parameter sufficient enough be a good model."
      ]
    },
    {
      "cell_type": "markdown",
      "metadata": {
        "id": "MENxKrt1ToEU"
      },
      "source": [
        "tune all parameters at the same time using a randomgrid(http://scikit-learn.org/stable/modules/generated/sklearn.model_selection.RandomizedSearchCV.html#sklearn.model_selection.RandomizedSearchCV). First, run with a coarse grid, then refine in the next iteration. Use the information from the previous step to select parameter values."
      ]
    },
    {
      "cell_type": "code",
      "metadata": {
        "id": "m9YiVgoQToEW"
      },
      "source": [
        "from sklearn.model_selection import RandomizedSearchCV\n",
        "from scipy.stats import reciprocal, uniform"
      ],
      "execution_count": null,
      "outputs": []
    },
    {
      "cell_type": "code",
      "metadata": {
        "id": "KAJX6L57ToEm"
      },
      "source": [
        "#tuning all the parameters together\n",
        "parameter_distribution = {'criterion' : criterion_estimators_1, 'max_depth' : criterion_estimators_2,\n",
        "                          'min_samples_split' : criterion_estimators_3, 'min_samples_leaf' : criterion_estimators_4,\n",
        "                          'max_leaf_nodes' : criterion_estimators_5}\n",
        "\n",
        "## Enter your Code here\n",
        "## Enter your Code here"
      ],
      "execution_count": null,
      "outputs": []
    },
    {
      "cell_type": "code",
      "metadata": {
        "id": "sVvRjhYZToE2"
      },
      "source": [
        "#Get the best estimator on Randomized SearchCV\n",
        "## Enter your Code here\n",
        "## Enter your Code here"
      ],
      "execution_count": null,
      "outputs": []
    },
    {
      "cell_type": "code",
      "metadata": {
        "id": "blAVsj5TToFF"
      },
      "source": [
        "# Based on the accuracy scores, we select the best estimator and work with the test set\n",
        "## Enter your Code here\n",
        "## Enter your Code here"
      ],
      "execution_count": null,
      "outputs": []
    },
    {
      "cell_type": "markdown",
      "metadata": {
        "id": "XZCm1Bw4ToFQ"
      },
      "source": [
        "#### Conclusions?"
      ]
    },
    {
      "cell_type": "markdown",
      "metadata": {
        "id": "RmjYIkznToFR"
      },
      "source": [
        "For Q1. Decision Tree performs the best under the hyperparameter , {'criterion': 'gini'} on the training set. But when we compare the model accuracy on the test set. The Accuracy drops considerably - indicating an instance of clear overfitting on the\n",
        "training set. Thus a higher accuracy is not the only measure.\n",
        "\n",
        "Whereas The Hyper parameter \"min_samples_leaf\" generates a good accuracy over the test set when compared to the training set.\n",
        "Although the accuracy number is low, but this is a more useful model when compared to other models.\n",
        "\n",
        "When we run all the Hyper parameters using randomized search, The model is slightly overfitted. But it is a recommended approach to use with the right number of parameters."
      ]
    },
    {
      "cell_type": "markdown",
      "metadata": {
        "id": "mBYtzHpGToFT"
      },
      "source": [
        "### Ensemble Learning\n",
        "\n",
        "Make sure to read and understand the documentation for each classifier.\n",
        "\n",
        "  \n",
        "- Tune the following classifiers:\n",
        "  - Random forest classfier\n",
        "  - Adaboost Tree classifier\n",
        "  - Extra trees classifier\n",
        "  - Gradient Boosted Tree classifier\n",
        "  - Logistic Regression\n",
        "  \n",
        "- Analyze, compare, and interpret your results\n",
        "- What ensemble yields the best result? Can you identify certain types of events that are classified better/worse from the type of algorithm?\n",
        "- Is the feature importance consistent for all classifiers?"
      ]
    },
    {
      "cell_type": "code",
      "metadata": {
        "id": "I1CsZVQqToFf"
      },
      "source": [
        "#import the libraries for all the classifiers.\n",
        "\n",
        "from sklearn.ensemble import RandomForestClassifier\n",
        "from sklearn.ensemble import AdaBoostClassifier\n",
        "from sklearn.ensemble import ExtraTreesClassifier\n",
        "from sklearn.ensemble import GradientBoostingClassifier\n",
        "from sklearn.linear_model import LogisticRegression\n",
        "from sklearn.model_selection import GridSearchCV\n",
        "from sklearn.model_selection import StratifiedShuffleSplit"
      ],
      "execution_count": null,
      "outputs": []
    },
    {
      "cell_type": "code",
      "metadata": {
        "id": "aQqlXYemToF0"
      },
      "source": [
        "#Design the random forest classifier\n",
        "\n",
        "# Random Forest Classifier\n",
        "\n",
        "n_estimators = [10, 200]\n",
        "max_features = [0.1, 0.5]\n",
        "max_depth = [2, 10, 20]\n",
        "oob_score = [True, False]\n",
        "min_samples_split = [0.1, 0.5]\n",
        "min_samples_leaf = [0.1, 0.5]\n",
        "max_leaf_nodes = [2, 10, 100]\n",
        "\n",
        "parameter_random_forest = {'n_estimators' : n_estimators, 'max_features' : max_features,\n",
        "                     'max_depth' : max_depth, 'min_samples_split' : min_samples_split,\n",
        "                    'oob_score' : oob_score, 'min_samples_leaf': min_samples_leaf,\n",
        "                     'max_leaf_nodes' : max_leaf_nodes}\n",
        "\n",
        "Random_Forest_Classifier = RandomForestClassifier(random_state = 42)\n",
        "\n",
        "#use grid search to tune the model\n",
        "\n",
        "## Enter your Code here\n",
        "## Enter your Code here)"
      ],
      "execution_count": null,
      "outputs": []
    },
    {
      "cell_type": "code",
      "metadata": {
        "scrolled": true,
        "id": "NG6sPShtToGA"
      },
      "source": [
        "#Now Predict on the Stack Dataset\n",
        "## Enter your Code here\n",
        "## Enter your Code here"
      ],
      "execution_count": null,
      "outputs": []
    },
    {
      "cell_type": "code",
      "metadata": {
        "id": "xjljeaEyToGL"
      },
      "source": [
        "# Test on the Test Data\n",
        "## Enter your Code here\n",
        "## Enter your Code here"
      ],
      "execution_count": null,
      "outputs": []
    },
    {
      "cell_type": "markdown",
      "metadata": {
        "id": "RqZvjTCRToGc"
      },
      "source": [
        "To identify certain types of events that are classified better/worse from this classifier - we use the confusion matrix"
      ]
    },
    {
      "cell_type": "code",
      "metadata": {
        "id": "2q-zzF8OToGe"
      },
      "source": [
        "#Create the confusion Matrix on the stack set for Random Forest Classifier\n",
        "## Enter your Code here\n",
        "## Enter your Code here"
      ],
      "execution_count": null,
      "outputs": []
    },
    {
      "cell_type": "code",
      "metadata": {
        "id": "98V5rLhvToGq"
      },
      "source": [
        "#Create the confusion Matrix on the test set for Random Forest Classifier\n",
        "## Enter your Code here\n",
        "## Enter your Code here"
      ],
      "execution_count": null,
      "outputs": []
    },
    {
      "cell_type": "markdown",
      "metadata": {
        "id": "GR_08L1lToG4"
      },
      "source": [
        "Now we capture the feature importance for the random forest classifer - sorted in ascending order"
      ]
    },
    {
      "cell_type": "code",
      "metadata": {
        "id": "cDHuxqG5ToG6"
      },
      "source": [
        "for name, score in sorted(zip(X_stack.columns, Random_Forest_estimators.feature_importances_), key=lambda x: x[1],reverse=True):\n",
        "    print(name, score)"
      ],
      "execution_count": null,
      "outputs": []
    },
    {
      "cell_type": "code",
      "metadata": {
        "id": "ybDN3M-GToHK"
      },
      "source": [
        "# Now Build the ADA Boost Classifier\n",
        "\n",
        "n_estimators = [5, 10, 15, 20]\n",
        "learning_rate = [0.05, 0.01]\n",
        "algorithm = ['SAMME', 'SAMME.R']\n",
        "\n",
        "Ada_Classifer = AdaBoostClassifier(random_state = 42)\n",
        "## Enter your Code here\n",
        "## Enter your Code here"
      ],
      "execution_count": null,
      "outputs": []
    },
    {
      "cell_type": "code",
      "metadata": {
        "id": "wtAnByqAToHX"
      },
      "source": [
        "#check accuracy on stack dataset\n",
        "## Enter your Code here\n",
        "## Enter your Code here"
      ],
      "execution_count": null,
      "outputs": []
    },
    {
      "cell_type": "code",
      "metadata": {
        "id": "ZrWepZy9ToHl"
      },
      "source": [
        "# Check the accuracy on the Test Data\n",
        "## Enter your Code here\n",
        "## Enter your Code here"
      ],
      "execution_count": null,
      "outputs": []
    },
    {
      "cell_type": "markdown",
      "metadata": {
        "id": "8hfEDRDkToHz"
      },
      "source": [
        "Now we identify certain types of events that are classified better/worse from ADA classifier - we use the confusion matrix"
      ]
    },
    {
      "cell_type": "code",
      "metadata": {
        "id": "y_fL_ftzToH1"
      },
      "source": [
        "#Create the confusion Matrix on the stack set for ADA Classifier\n",
        "## Enter your Code here\n",
        "## Enter your Code here"
      ],
      "execution_count": null,
      "outputs": []
    },
    {
      "cell_type": "code",
      "metadata": {
        "id": "e2M6Yj2NToH7"
      },
      "source": [
        "#Create the confusion Matrix on the test set for ADA Classifier\n",
        "## Enter your Code here\n",
        "## Enter your Code here"
      ],
      "execution_count": null,
      "outputs": []
    },
    {
      "cell_type": "markdown",
      "metadata": {
        "id": "mbkQxWmnToIY"
      },
      "source": [
        "Now we capture the feature importance for the Ada Classifer - Sorted in ascending order"
      ]
    },
    {
      "cell_type": "code",
      "metadata": {
        "id": "CoVTr4DBToIa"
      },
      "source": [
        "for name, score in sorted(zip(X_stack.columns, AdaClassifier_Estimators.feature_importances_), key=lambda x: x[1],reverse=True):\n",
        "    print(name, score)"
      ],
      "execution_count": null,
      "outputs": []
    },
    {
      "cell_type": "code",
      "metadata": {
        "id": "PKyuBVaiToIr"
      },
      "source": [
        "# The next we build is an Extra Trees Classifier\n",
        "\n",
        "Extra_Classifier = ExtraTreesClassifier(random_state = 42)\n",
        "\n",
        "n_estimators = [3, 70, 100, 200]\n",
        "max_features = [0.1,0.3,0.5]\n",
        "max_depth = [2, 50, 70]\n",
        "min_samples_split = [0.1, 0.5]\n",
        "min_samples_leaf = [0.1, 0.5] # Mhm, this one leads to accuracy of test and train sets being the same.\n",
        "\n",
        "parameter_Extra_Classifier = {'n_estimators' : n_estimators, 'max_features' : max_features,\n",
        "                         'max_depth' : max_depth, 'min_samples_split' : min_samples_split,\n",
        "                         'min_samples_leaf' : min_samples_leaf}\n",
        "\n",
        "## Enter your Code here\n",
        "## Enter your Code here"
      ],
      "execution_count": null,
      "outputs": []
    },
    {
      "cell_type": "code",
      "metadata": {
        "id": "g-MdxuzDToI2"
      },
      "source": [
        "#check accuracy on stack data\n",
        "## Enter your Code here\n",
        "## Enter your Code here"
      ],
      "execution_count": null,
      "outputs": []
    },
    {
      "cell_type": "code",
      "metadata": {
        "scrolled": true,
        "id": "DuY2EGQ9ToJK"
      },
      "source": [
        "# check the accuracy on the Test Data\n",
        "## Enter your Code here\n",
        "## Enter your Code here"
      ],
      "execution_count": null,
      "outputs": []
    },
    {
      "cell_type": "markdown",
      "metadata": {
        "id": "VxkQTuxXToJT"
      },
      "source": [
        "Now we identify certain types of events that are classified better/worse from Extra Trees classifier - we use the confusion matrix"
      ]
    },
    {
      "cell_type": "code",
      "metadata": {
        "id": "jGPVJWAFToJW"
      },
      "source": [
        "#Create the confusion Matrix on the stack set for Extra Classifier\n",
        "## Enter your Code here\n",
        "## Enter your Code here"
      ],
      "execution_count": null,
      "outputs": []
    },
    {
      "cell_type": "code",
      "metadata": {
        "id": "xRQXkmQQToJh"
      },
      "source": [
        "#Create the confusion Matrix on the test set for Extra Classifier\n",
        "## Enter your Code here\n",
        "## Enter your Code here"
      ],
      "execution_count": null,
      "outputs": []
    },
    {
      "cell_type": "markdown",
      "metadata": {
        "id": "VvSbbAXwToJu"
      },
      "source": [
        "Now we capture the feature importance for the Extra Trees Classifer, sorted in ascending order."
      ]
    },
    {
      "cell_type": "code",
      "metadata": {
        "id": "Fr4SxR8tToJw"
      },
      "source": [
        "for name, score in sorted(zip(X_stack.columns, ExtraClassifier_Estimators.feature_importances_), key=lambda x: x[1],reverse=True):\n",
        "    print(name, score)"
      ],
      "execution_count": null,
      "outputs": []
    },
    {
      "cell_type": "code",
      "metadata": {
        "scrolled": true,
        "id": "T26VsmddToJ9"
      },
      "source": [
        "# Gradient Boosting Classifier\n",
        "\n",
        "GB_Classifier = GradientBoostingClassifier(random_state = 42)\n",
        "\n",
        "n_estimators = [3, 7]\n",
        "learning_rate = [0.1, 0.01, .001]\n",
        "max_depth = [3, 15, 20]\n",
        "min_samples_split = [0.2, 0.3]\n",
        "min_samples_leaf = [3, 4]\n",
        "max_features = [4, 6]\n",
        "max_leaf_nodes = [2, 3]\n",
        "\n",
        "parameter_GB_Classifier = {'n_estimators' : n_estimators, 'learning_rate' : learning_rate,\n",
        "                              'max_depth' : max_depth, 'min_samples_split' : min_samples_split,\n",
        "                              'min_samples_leaf' : min_samples_leaf, 'max_features' : max_features,\n",
        "                              'max_leaf_nodes' : max_leaf_nodes}\n",
        "\n",
        "## Enter your Code here\n",
        "## Enter your Code here"
      ],
      "execution_count": null,
      "outputs": []
    },
    {
      "cell_type": "code",
      "metadata": {
        "id": "CyDyzVXVToKG"
      },
      "source": [
        "#Now Predict on the Stack Dataset\n",
        "## Enter your Code here\n",
        "## Enter your Code here"
      ],
      "execution_count": null,
      "outputs": []
    },
    {
      "cell_type": "code",
      "metadata": {
        "id": "8OH-pT-zToKQ"
      },
      "source": [
        "# check the accuracy on the Test Data\n",
        "## Enter your Code here\n",
        "## Enter your Code here"
      ],
      "execution_count": null,
      "outputs": []
    },
    {
      "cell_type": "markdown",
      "metadata": {
        "id": "iWRsmPFvToKb"
      },
      "source": [
        "Now we identify certain types of events that are classified better/worse from Gradient Boosting classifier - we use the confusion matrix"
      ]
    },
    {
      "cell_type": "code",
      "metadata": {
        "id": "cL8H-lEBToKc"
      },
      "source": [
        "#Create the confusion Matrix on the stack set for GB Classifier\n",
        "## Enter your Code here\n",
        "## Enter your Code here"
      ],
      "execution_count": null,
      "outputs": []
    },
    {
      "cell_type": "code",
      "metadata": {
        "id": "njSurkyiToKj"
      },
      "source": [
        "#Create the confusion Matrix on the test set for GB Classifier\n",
        "## Enter your Code here\n",
        "## Enter your Code here"
      ],
      "execution_count": null,
      "outputs": []
    },
    {
      "cell_type": "code",
      "metadata": {
        "id": "e5e9kbQNToKv"
      },
      "source": [
        "for name, score in sorted(zip(X_stack.columns, GB_estimators.feature_importances_), key=lambda x: x[1],reverse=True):\n",
        "    print(name, score)"
      ],
      "execution_count": null,
      "outputs": []
    },
    {
      "cell_type": "markdown",
      "metadata": {
        "id": "cjlMeg0AToMV"
      },
      "source": [
        "#### Conclusions?"
      ]
    },
    {
      "cell_type": "markdown",
      "metadata": {
        "id": "S0G0yJQyToMY"
      },
      "source": [
        "Q. (Optional) If a Decision Tree is overfitting the training set, is it a good idea to try decreasing max_depth?"
      ]
    },
    {
      "cell_type": "markdown",
      "metadata": {
        "id": "mip_0xMmToMb"
      },
      "source": [
        "Q. (Optional) If a Decision Tree is underfitting the training set, is it a good idea to try scaling the input features?"
      ]
    },
    {
      "cell_type": "markdown",
      "metadata": {
        "id": "A3TFBHA8ToMf"
      },
      "source": [
        "Q. (Optional) What is the difference between hard and soft voting classifiers?"
      ]
    },
    {
      "cell_type": "markdown",
      "metadata": {
        "id": "vxa3cD0xToMl"
      },
      "source": [
        "Q. (Optional) If your AdaBoost ensemble underfits the training data, what hyperparameters should you tweak and how?"
      ]
    },
    {
      "cell_type": "markdown",
      "metadata": {
        "id": "LklBnu8KToMn"
      },
      "source": [
        "Q. (Optional) If your Gradient Boosting ensemble overfits the training set, should you increase or decrease the learning rate?"
      ]
    }
  ]
}